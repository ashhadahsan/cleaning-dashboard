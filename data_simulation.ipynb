{
 "cells": [
  {
   "cell_type": "code",
   "execution_count": 37,
   "metadata": {},
   "outputs": [
    {
     "name": "stderr",
     "output_type": "stream",
     "text": [
      "2023-03-03 17:26:17.181 DEBUG   cmdstanpy: cmd: where.exe tbb.dll\n",
      "cwd: None\n",
      "2023-03-03 17:26:17.434 DEBUG   cmdstanpy: TBB already found in load path\n",
      "2023-03-03 17:26:17.440 INFO    prophet: Disabling yearly seasonality. Run prophet with yearly_seasonality=True to override this.\n",
      "2023-03-03 17:26:17.441 INFO    prophet: Disabling daily seasonality. Run prophet with daily_seasonality=True to override this.\n",
      "2023-03-03 17:26:17.460 DEBUG   cmdstanpy: input tempfile: C:\\Users\\Ashhad\\AppData\\Local\\Temp\\tmpyy0omixe\\feg3vyov.json\n",
      "2023-03-03 17:26:17.467 DEBUG   cmdstanpy: input tempfile: C:\\Users\\Ashhad\\AppData\\Local\\Temp\\tmpyy0omixe\\yar0d4j_.json\n",
      "2023-03-03 17:26:17.470 DEBUG   cmdstanpy: idx 0\n",
      "2023-03-03 17:26:17.471 DEBUG   cmdstanpy: running CmdStan, num_threads: None\n",
      "2023-03-03 17:26:17.471 DEBUG   cmdstanpy: CmdStan args: ['c:\\\\Users\\\\Ashhad\\\\anaconda3\\\\envs\\\\p_37\\\\lib\\\\site-packages\\\\prophet\\\\stan_model\\\\prophet_model.bin', 'random', 'seed=22923', 'data', 'file=C:\\\\Users\\\\Ashhad\\\\AppData\\\\Local\\\\Temp\\\\tmpyy0omixe\\\\feg3vyov.json', 'init=C:\\\\Users\\\\Ashhad\\\\AppData\\\\Local\\\\Temp\\\\tmpyy0omixe\\\\yar0d4j_.json', 'output', 'file=C:\\\\Users\\\\Ashhad\\\\AppData\\\\Local\\\\Temp\\\\tmpyy0omixe\\\\prophet_model2f1u8og8\\\\prophet_model-20230303172617.csv', 'method=optimize', 'algorithm=newton', 'iter=10000']\n",
      "17:26:17 - cmdstanpy - INFO - Chain [1] start processing\n",
      "2023-03-03 17:26:17.473 INFO    cmdstanpy: Chain [1] start processing\n",
      "17:26:17 - cmdstanpy - INFO - Chain [1] done processing\n",
      "2023-03-03 17:26:17.638 INFO    cmdstanpy: Chain [1] done processing\n"
     ]
    },
    {
     "ename": "TypeError",
     "evalue": "invalid Figure property: template\ntemplate\nBad property path:\ntemplate\n^^^^^^^^",
     "output_type": "error",
     "traceback": [
      "\u001b[1;31m---------------------------------------------------------------------------\u001b[0m",
      "\u001b[1;31mTypeError\u001b[0m                                 Traceback (most recent call last)",
      "\u001b[1;32m~\\AppData\\Local\\Temp\\ipykernel_15312\\1075029779.py\u001b[0m in \u001b[0;36m<module>\u001b[1;34m\u001b[0m\n\u001b[0;32m     32\u001b[0m \u001b[1;33m\u001b[0m\u001b[0m\n\u001b[0;32m     33\u001b[0m \u001b[1;31m# Plot the forecast with interactive plot\u001b[0m\u001b[1;33m\u001b[0m\u001b[1;33m\u001b[0m\u001b[1;33m\u001b[0m\u001b[0m\n\u001b[1;32m---> 34\u001b[1;33m \u001b[0mfig\u001b[0m \u001b[1;33m=\u001b[0m \u001b[0mgo\u001b[0m\u001b[1;33m.\u001b[0m\u001b[0mFigure\u001b[0m\u001b[1;33m(\u001b[0m\u001b[0mtemplate\u001b[0m\u001b[1;33m=\u001b[0m\u001b[1;34m'streamlit'\u001b[0m\u001b[1;33m)\u001b[0m\u001b[1;33m\u001b[0m\u001b[1;33m\u001b[0m\u001b[0m\n\u001b[0m\u001b[0;32m     35\u001b[0m \u001b[0mfig\u001b[0m\u001b[1;33m.\u001b[0m\u001b[0madd_trace\u001b[0m\u001b[1;33m(\u001b[0m\u001b[0mgo\u001b[0m\u001b[1;33m.\u001b[0m\u001b[0mScatter\u001b[0m\u001b[1;33m(\u001b[0m\u001b[0mx\u001b[0m\u001b[1;33m=\u001b[0m\u001b[0mforecast\u001b[0m\u001b[1;33m[\u001b[0m\u001b[1;34m'ds'\u001b[0m\u001b[1;33m]\u001b[0m\u001b[1;33m,\u001b[0m \u001b[0my\u001b[0m\u001b[1;33m=\u001b[0m\u001b[0mforecast\u001b[0m\u001b[1;33m[\u001b[0m\u001b[1;34m'yhat'\u001b[0m\u001b[1;33m]\u001b[0m\u001b[1;33m,\u001b[0m \u001b[0mname\u001b[0m\u001b[1;33m=\u001b[0m\u001b[1;34m'Forecast'\u001b[0m\u001b[1;33m)\u001b[0m\u001b[1;33m)\u001b[0m\u001b[1;33m\u001b[0m\u001b[1;33m\u001b[0m\u001b[0m\n\u001b[0;32m     36\u001b[0m \u001b[0mfig\u001b[0m\u001b[1;33m.\u001b[0m\u001b[0mupdate_layout\u001b[0m\u001b[1;33m(\u001b[0m \u001b[0mtitle\u001b[0m \u001b[1;33m=\u001b[0m \u001b[1;34m\"Projected Revenue fot the next three months<br><sup>Residential</sup>\"\u001b[0m\u001b[1;33m,\u001b[0m \u001b[0mxaxis_title\u001b[0m\u001b[1;33m=\u001b[0m\u001b[1;34m'Date'\u001b[0m\u001b[1;33m,\u001b[0m \u001b[0myaxis_title\u001b[0m\u001b[1;33m=\u001b[0m\u001b[1;34m'Revenue'\u001b[0m\u001b[1;33m)\u001b[0m\u001b[1;33m\u001b[0m\u001b[1;33m\u001b[0m\u001b[0m\n",
      "\u001b[1;32mc:\\Users\\Ashhad\\anaconda3\\envs\\p_37\\lib\\site-packages\\plotly\\graph_objs\\_figure.py\u001b[0m in \u001b[0;36m__init__\u001b[1;34m(self, data, layout, frames, skip_invalid, **kwargs)\u001b[0m\n\u001b[0;32m    627\u001b[0m             \u001b[1;32mis\u001b[0m \u001b[0minvalid\u001b[0m \u001b[0mAND\u001b[0m \u001b[0mskip_invalid\u001b[0m \u001b[1;32mis\u001b[0m \u001b[1;32mFalse\u001b[0m\u001b[1;33m\u001b[0m\u001b[1;33m\u001b[0m\u001b[0m\n\u001b[0;32m    628\u001b[0m         \"\"\"\n\u001b[1;32m--> 629\u001b[1;33m         \u001b[0msuper\u001b[0m\u001b[1;33m(\u001b[0m\u001b[0mFigure\u001b[0m\u001b[1;33m,\u001b[0m \u001b[0mself\u001b[0m\u001b[1;33m)\u001b[0m\u001b[1;33m.\u001b[0m\u001b[0m__init__\u001b[0m\u001b[1;33m(\u001b[0m\u001b[0mdata\u001b[0m\u001b[1;33m,\u001b[0m \u001b[0mlayout\u001b[0m\u001b[1;33m,\u001b[0m \u001b[0mframes\u001b[0m\u001b[1;33m,\u001b[0m \u001b[0mskip_invalid\u001b[0m\u001b[1;33m,\u001b[0m \u001b[1;33m**\u001b[0m\u001b[0mkwargs\u001b[0m\u001b[1;33m)\u001b[0m\u001b[1;33m\u001b[0m\u001b[1;33m\u001b[0m\u001b[0m\n\u001b[0m\u001b[0;32m    630\u001b[0m \u001b[1;33m\u001b[0m\u001b[0m\n\u001b[0;32m    631\u001b[0m     \u001b[1;32mdef\u001b[0m \u001b[0mupdate\u001b[0m\u001b[1;33m(\u001b[0m\u001b[0mself\u001b[0m\u001b[1;33m,\u001b[0m \u001b[0mdict1\u001b[0m\u001b[1;33m=\u001b[0m\u001b[1;32mNone\u001b[0m\u001b[1;33m,\u001b[0m \u001b[0moverwrite\u001b[0m\u001b[1;33m=\u001b[0m\u001b[1;32mFalse\u001b[0m\u001b[1;33m,\u001b[0m \u001b[1;33m**\u001b[0m\u001b[0mkwargs\u001b[0m\u001b[1;33m)\u001b[0m \u001b[1;33m->\u001b[0m \u001b[1;34m\"Figure\"\u001b[0m\u001b[1;33m:\u001b[0m\u001b[1;33m\u001b[0m\u001b[1;33m\u001b[0m\u001b[0m\n",
      "\u001b[1;32mc:\\Users\\Ashhad\\anaconda3\\envs\\p_37\\lib\\site-packages\\plotly\\basedatatypes.py\u001b[0m in \u001b[0;36m__init__\u001b[1;34m(self, data, layout_plotly, frames, skip_invalid, **kwargs)\u001b[0m\n\u001b[0;32m    645\u001b[0m                     \u001b[1;33m%\u001b[0m \u001b[1;33m(\u001b[0m\u001b[0merr\u001b[0m\u001b[1;33m.\u001b[0m\u001b[0margs\u001b[0m\u001b[1;33m[\u001b[0m\u001b[1;36m0\u001b[0m\u001b[1;33m]\u001b[0m\u001b[1;33m,\u001b[0m\u001b[1;33m)\u001b[0m\u001b[1;33m,\u001b[0m\u001b[1;33m\u001b[0m\u001b[1;33m\u001b[0m\u001b[0m\n\u001b[0;32m    646\u001b[0m                 )\n\u001b[1;32m--> 647\u001b[1;33m                 \u001b[1;32mraise\u001b[0m \u001b[0mtype_err\u001b[0m\u001b[1;33m\u001b[0m\u001b[1;33m\u001b[0m\u001b[0m\n\u001b[0m\u001b[0;32m    648\u001b[0m \u001b[1;33m\u001b[0m\u001b[0m\n\u001b[0;32m    649\u001b[0m     \u001b[1;31m# Magic Methods\u001b[0m\u001b[1;33m\u001b[0m\u001b[1;33m\u001b[0m\u001b[1;33m\u001b[0m\u001b[0m\n",
      "\u001b[1;31mTypeError\u001b[0m: invalid Figure property: template\ntemplate\nBad property path:\ntemplate\n^^^^^^^^"
     ]
    }
   ],
   "source": [
    "# Import necessary libraries\n",
    "import pandas as pd\n",
    "import numpy as np\n",
    "import matplotlib.pyplot as plt\n",
    "from prophet import Prophet\n",
    "import plotly.graph_objs as go\n",
    "import streamlit as st\n",
    "\n",
    "# Generate date range from October 2022 to December 2022\n",
    "date_rng = pd.date_range(start='10/1/2022', end='12/31/2022', freq='D')\n",
    "\n",
    "# Create a pandas dataframe with dates and base amount\n",
    "df = pd.DataFrame(date_rng, columns=['date'])\n",
    "df['base_amount'] = 170\n",
    "\n",
    "# Simulate time series data with normal and exponential growth combined\n",
    "np.random.seed(42)\n",
    "noise = np.random.normal(0, 20, size=len(date_rng))\n",
    "growth = np.exp(np.linspace(0, 0.1, len(date_rng)))\n",
    "numbers = np.random.randint(low=8, high=25, size=len(date_rng))\n",
    "ts_data = df['base_amount'].values * numbers*growth + noise\n",
    "df['amount'] = ts_data\n",
    "\n",
    "# Train a Prophet model on the time series data\n",
    "prophet_df = df[['date', 'amount']].rename(columns={'date': 'ds', 'amount': 'y'})\n",
    "m = Prophet()\n",
    "m.fit(prophet_df)\n",
    "\n",
    "# Make predictions for the next 90 days\n",
    "future = m.make_future_dataframe(periods=90,include_history=False)\n",
    "forecast = m.predict(future)\n",
    "\n",
    "# Plot the forecast with interactive plot\n",
    "fig = go.Figure()\n",
    "fig.add_trace(go.Scatter(x=forecast['ds'], y=forecast['yhat'], name='Forecast'))\n",
    "fig.update_layout( title = \"Projected Revenue for the next three months<br><sup>Residential</sup>\", xaxis_title='Date', yaxis_title='Revenue')\n",
    "\n",
    "\n",
    "# # Add the saved Prophet model to a Streamlit app and show relevant plots\n",
    "# st.title('Time Series Forecast')\n",
    "# st.plotly_chart(fig)\n",
    "# st.subheader('Key Performance Indicators')\n",
    "# st.write('Mean Absolute Percentage Error (MAPE):', round(mape(df['amount'], forecast['yhat']), 2))\n",
    "# st.write('Root Mean Squared Error (RMSE):', round(rmse(df['amount'], forecast['yhat']), 2))\n"
   ]
  },
  {
   "cell_type": "code",
   "execution_count": 35,
   "metadata": {},
   "outputs": [
    {
     "data": {
      "text/plain": [
       "Templates configuration\n",
       "-----------------------\n",
       "    Default template: 'streamlit'\n",
       "    Available templates:\n",
       "        ['ggplot2', 'seaborn', 'simple_white', 'plotly',\n",
       "         'plotly_white', 'plotly_dark', 'presentation', 'xgridoff',\n",
       "         'ygridoff', 'gridon', 'none', 'streamlit']"
      ]
     },
     "execution_count": 35,
     "metadata": {},
     "output_type": "execute_result"
    }
   ],
   "source": [
    "import plotly.io as pio\n",
    "pio.templates"
   ]
  },
  {
   "cell_type": "code",
   "execution_count": null,
   "metadata": {},
   "outputs": [],
   "source": []
  }
 ],
 "metadata": {
  "kernelspec": {
   "display_name": "Python 3 (ipykernel)",
   "language": "python",
   "name": "python3"
  },
  "language_info": {
   "codemirror_mode": {
    "name": "ipython",
    "version": 3
   },
   "file_extension": ".py",
   "mimetype": "text/x-python",
   "name": "python",
   "nbconvert_exporter": "python",
   "pygments_lexer": "ipython3",
   "version": "3.7.16"
  },
  "vscode": {
   "interpreter": {
    "hash": "dfde991e1c5bd7daebdaa19e38ee1285310e31cef3728c2411bda9c55d10db3d"
   }
  }
 },
 "nbformat": 4,
 "nbformat_minor": 2
}
